{
 "cells": [
  {
   "cell_type": "markdown",
   "id": "a8f681ad",
   "metadata": {},
   "source": [
    " create rgb image 500*500 clock that show the current time hours,minutes,second \n",
    "and date of the day."
   ]
  },
  {
   "cell_type": "code",
   "execution_count": 1,
   "id": "053bb06a",
   "metadata": {},
   "outputs": [],
   "source": [
    "import cv2\n",
    "import numpy as np\n",
    "import math\n",
    "from datetime import datetime\n",
    "\n",
    "canvas_size = np.array([500, 500])\n",
    "center = canvas_size // 2\n",
    "radius = 200\n",
    "\n",
    "def draw_clock_frame(img, now):\n",
    "    img[:] = 0\n",
    "    hour = now.hour % 12\n",
    "    minute = now.minute\n",
    "    second = now.second\n",
    "    date_str = now.strftime(\"Date : %Y-%m-%d\")\n",
    "    time_str = now.strftime(\"Time : %I:%M:%S\")\n",
    "    cv2.circle(img, center, radius, (0, 0, 255), 2)\n",
    "\n",
    "    for i in range(60):\n",
    "        angle = math.radians(i * 6 - 90)\n",
    "        x = int(center[0] + radius * math.cos(angle))\n",
    "        y = int(center[1] + radius * math.sin(angle))\n",
    "        r = 6 if i % 5 == 0 else 2\n",
    "        cv2.circle(img, (x, y), r, (0, 255, 255), -1)\n",
    "\n",
    "    second_angle = (second / 60) * 360\n",
    "    minute_angle = (minute / 60) * 360\n",
    "    hour_angle = (hour / 12) * 360 + (minute / 60) * 30\n",
    "\n",
    "    def draw_hand(angle_deg, length, color, thickness):\n",
    "        angle_rad = math.radians(angle_deg - 90)\n",
    "        x = int(center[0] + length * math.cos(angle_rad))\n",
    "        y = int(center[1] + length * math.sin(angle_rad))\n",
    "        cv2.line(img, center, (x, y), color, thickness)\n",
    "\n",
    "    draw_hand(second_angle, 180, (11, 92, 88), 2)\n",
    "    draw_hand(minute_angle, 140, (6, 208, 84), 4)\n",
    "    draw_hand(hour_angle, 100, (75, 83, 8), 4)\n",
    "\n",
    "    cv2.putText(img, date_str, (10, 30), cv2.FONT_HERSHEY_SIMPLEX, 0.6, (255, 255, 0), 2)\n",
    "    cv2.putText(img, time_str, (10, 60), cv2.FONT_HERSHEY_SIMPLEX, 0.6, (255, 255, 0), 2)\n",
    "    return img\n",
    "cv2.namedWindow(\"Clock\", cv2.WINDOW_AUTOSIZE)\n",
    "\n",
    "while True:\n",
    "    if cv2.getWindowProperty(\"Clock\", cv2.WND_PROP_VISIBLE) < 1:\n",
    "        break\n",
    "\n",
    "    img = np.zeros((*canvas_size, 3), dtype=np.uint8)\n",
    "    now = datetime.now()\n",
    "    frame = draw_clock_frame(img, now)\n",
    "\n",
    "    cv2.imshow(\"Clock\", frame)\n",
    "    if cv2.waitKey(1) == 27:\n",
    "        break\n",
    "\n",
    "cv2.destroyAllWindows()"
   ]
  }
 ],
 "metadata": {
  "kernelspec": {
   "display_name": "Python 3",
   "language": "python",
   "name": "python3"
  },
  "language_info": {
   "codemirror_mode": {
    "name": "ipython",
    "version": 3
   },
   "file_extension": ".py",
   "mimetype": "text/x-python",
   "name": "python",
   "nbconvert_exporter": "python",
   "pygments_lexer": "ipython3",
   "version": "3.10.6"
  }
 },
 "nbformat": 4,
 "nbformat_minor": 5
}
